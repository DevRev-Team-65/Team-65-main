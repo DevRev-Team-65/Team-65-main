{
 "cells": [
  {
   "cell_type": "markdown",
   "metadata": {},
   "source": [
    "## Production of PDDL file from prompt"
   ]
  },
  {
   "cell_type": "code",
   "execution_count": 4,
   "metadata": {},
   "outputs": [],
   "source": [
    "from llm_plus_p import llm_plus_p_function\n",
    "\n",
    "query = 'Summarize issues similar to don:core:dvrv-us-1:devo/0:issue/1'\n",
    "pddl_code = llm_plus_p_function(query)"
   ]
  },
  {
   "cell_type": "code",
   "execution_count": 5,
   "metadata": {},
   "outputs": [
    {
     "name": "stdout",
     "output_type": "stream",
     "text": [
      "(define (problem problem_name)\n",
      "  (:domain tool_domain)\n",
      "  (:objects\n",
      "    don:core:dvrv-us-1:devo/0:issue/1 - object\n",
      "  )\n",
      "  (:init\n",
      "    ;; Initializing the object\n",
      "    (tool_argument_value don:core:dvrv-us-1:devo/0:issue/1)\n",
      "  )\n",
      "  \n",
      "  (:goal (and\n",
      "    ;; Goal state\n",
      "    (tool_used summarize_objects)\n",
      "    (argument_of summarize_objects don:core:dvrv-us-1:devo/0:issue/1)\n",
      "  ))\n",
      "\n",
      "  (:action use_tool_search_object_by_name\n",
      "    :parameters ()\n",
      "    :precondition (and)\n",
      "    :effect (and\n",
      "      (tool_used search_object_by_name)\n",
      "      (argument_of search_object_by_name don:core:dvrv-us-1:devo/0:issue/1)\n",
      "    )\n",
      "  )\n",
      "\n",
      "  (:action use_tool_get_similar_work_items\n",
      "    :parameters ()\n",
      "    :precondition (and\n",
      "      (tool_used search_object_by_name)\n",
      "      (argument_of search_object_by_name don:core:dvrv-us-1:devo/0:issue/1)\n",
      "    )\n",
      "    :effect (and\n",
      "      (tool_used get_similar_work_items)\n",
      "      (argument_of get_similar_work_items $$PREV[0])\n",
      "    )\n",
      "  )\n",
      "\n",
      "  (:action use_tool_summarize_objects\n",
      "    :parameters ()\n",
      "    :precondition (and\n",
      "      (tool_used get_similar_work_items)\n",
      "      (argument_of get_similar_work_items $$PREV[0])\n",
      "    )\n",
      "    :effect (and\n",
      "      (tool_used summarize_objects)\n",
      "      (argument_of summarize_objects $$PREV[1])\n",
      "    )\n",
      "  )\n",
      ")\n",
      "\n"
     ]
    }
   ],
   "source": [
    "print(pddl_code)"
   ]
  },
  {
   "cell_type": "code",
   "execution_count": 6,
   "metadata": {},
   "outputs": [
    {
     "name": "stdout",
     "output_type": "stream",
     "text": [
      "[{'tool_name': 'search_object_by_name', 'arguments': [{'argument_name': 'don:core:dvrv-us-1:devo/0:issue/1', 'argument_value': ''}]}, {'tool_name': 'get_similar_work_items', 'arguments': [{'argument_name': '$$PREV[0]', 'argument_value': ''}]}, {'tool_name': 'summarize_objects', 'arguments': [{'argument_name': '$$PREV[1]', 'argument_value': ''}]}]\n"
     ]
    }
   ],
   "source": [
    "from pddl_to_solution import pddl_to_solution_function\n",
    "\n",
    "print(pddl_to_solution_function(pddl_code))"
   ]
  }
 ],
 "metadata": {
  "kernelspec": {
   "display_name": "Python 3",
   "language": "python",
   "name": "python3"
  },
  "language_info": {
   "codemirror_mode": {
    "name": "ipython",
    "version": 3
   },
   "file_extension": ".py",
   "mimetype": "text/x-python",
   "name": "python",
   "nbconvert_exporter": "python",
   "pygments_lexer": "ipython3",
   "version": "3.10.12"
  }
 },
 "nbformat": 4,
 "nbformat_minor": 2
}
