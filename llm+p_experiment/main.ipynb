{
 "cells": [
  {
   "cell_type": "markdown",
   "metadata": {},
   "source": [
    "## Production of PDDL file from prompt"
   ]
  },
  {
   "cell_type": "code",
   "execution_count": 32,
   "metadata": {},
   "outputs": [],
   "source": [
    "from llm_plus_p import llm_plus_p_function\n",
    "\n",
    "query = 'Summarize high severity tickets from the customer UltimateCustomer'\n",
    "pddl_code = llm_plus_p_function(query)"
   ]
  },
  {
   "cell_type": "code",
   "execution_count": 33,
   "metadata": {},
   "outputs": [
    {
     "name": "stdout",
     "output_type": "stream",
     "text": [
      "(define (problem tool_problem)\n",
      "  (:domain tool_domain)\n",
      "  (:objects\n",
      "    UltimateCustomer - object\n",
      "    high - object\n",
      "    ticket - object\n",
      "  )\n",
      "  (:init\n",
      "    (tool_argument_value UltimateCustomer)\n",
      "    (tool_argument_value high)\n",
      "    (tool_argument_value ticket)\n",
      "  )\n",
      "  (:goal (and\n",
      "    (tool_used summarize_objects)\n",
      "    (argument_of summarize_objects UltimateCustomer high ticket)\n",
      "  ))\n",
      "\n",
      "  ;; Actions\n",
      "  (:action use_tool_works_list\n",
      "    :parameters ()\n",
      "    :precondition (and)\n",
      "    :effect (and\n",
      "      (tool_used works_list)\n",
      "      (argument_of works_list (ticket.severity high) (ticket.rev_org UltimateCustomer) (type ticket))\n",
      "    )\n",
      "  )\n",
      "\n",
      "  (:action use_tool_summarize_objects\n",
      "    :parameters ()\n",
      "    :precondition (and\n",
      "      (tool_used works_list)\n",
      "      (argument_of works_list (ticket.severity high) (ticket.rev_org UltimateCustomer) (type ticket))\n",
      "    )\n",
      "    :effect (and\n",
      "      (tool_used summarize_objects)\n",
      "      (argument_of summarize_objects (objects $$PREV[1]))\n",
      "    )\n",
      "  )\n",
      ")\n"
     ]
    }
   ],
   "source": [
    "print(pddl_code)"
   ]
  },
  {
   "cell_type": "code",
   "execution_count": 38,
   "metadata": {},
   "outputs": [
    {
     "data": {
      "text/plain": [
       "[{'tool_name': 'works_list',\n",
       "  'arguments': [{'argument_name': 'ticket.severity', 'argument_value': 'high'},\n",
       "   {'argument_name': 'ticket.rev_org', 'argument_value': 'UltimateCustomer'},\n",
       "   {'argument_name': 'type', 'argument_value': 'ticket'}]},\n",
       " {'tool_name': 'summarize_objects',\n",
       "  'arguments': [{'argument_name': 'objects', 'argument_value': '$$PREV[1]'}]}]"
      ]
     },
     "execution_count": 38,
     "metadata": {},
     "output_type": "execute_result"
    }
   ],
   "source": [
    "import re\n",
    "\n",
    "solution = []\n",
    "\n",
    "encoded_tasks = pddl_code.split(':action')[1:]\n",
    "for encoded_task in encoded_tasks:\n",
    "     tasks = encoded_task.split(':effect')[1:]\n",
    "     decoded_task = {}\n",
    "     for task in tasks:\n",
    "          data = task.split('argument_of')[1].split()\n",
    "          decoded_task['tool_name'] = data[0]\n",
    "          data = [re.sub('[()\"]', '', i) for i in data][1:]\n",
    "          decoded_task['arguments'] = []\n",
    "          for i in range(0, len(data) - 1, 2):\n",
    "               if data[i] == '': continue\n",
    "               argument = {}\n",
    "               argument['argument_name'] = data[i]\n",
    "               argument['argument_value'] = data[i + 1]\n",
    "               decoded_task['arguments'].append(argument)\n",
    "          \n",
    "     solution.append(decoded_task)\n",
    "\n",
    "solution"
   ]
  }
 ],
 "metadata": {
  "kernelspec": {
   "display_name": "Python 3",
   "language": "python",
   "name": "python3"
  },
  "language_info": {
   "codemirror_mode": {
    "name": "ipython",
    "version": 3
   },
   "file_extension": ".py",
   "mimetype": "text/x-python",
   "name": "python",
   "nbconvert_exporter": "python",
   "pygments_lexer": "ipython3",
   "version": "3.10.12"
  }
 },
 "nbformat": 4,
 "nbformat_minor": 2
}
