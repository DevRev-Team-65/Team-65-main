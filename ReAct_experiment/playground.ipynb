{
 "cells": [
  {
   "cell_type": "code",
   "execution_count": 2,
   "metadata": {},
   "outputs": [
    {
     "name": "stdout",
     "output_type": "stream",
     "text": [
      "\n",
      "\n",
      "\u001b[1m> Entering new AgentExecutor chain...\u001b[0m\n",
      "\u001b[32;1m\u001b[1;3mQuestion: What objects are you searching for related to the customer CustomerABC?\n",
      "Thought: I need to use the search_object_by_name tool to find the objects related to the customer.\n",
      "Action:\n",
      "```\n",
      "{\n",
      "  \"action\": \"search_object_by_name\",\n",
      "  \"action_input\": {\n",
      "    \"query\": \"CustomerABC\"\n",
      "  }\n",
      "}\n",
      "```\u001b[0m\u001b[36;1m\u001b[1;3msearched objects\u001b[0m\u001b[32;1m\u001b[1;3mI have found the objects related to the customer CustomerABC. Now I need to create action items from the search results.\n",
      "Action:\n",
      "```\n",
      "{\n",
      "  \"action\": \"create_actionable_tasks_from_text\",\n",
      "  \"action_input\": {\n",
      "    \"text\": \"searched objects\"\n",
      "  }\n",
      "}\n",
      "```\u001b[0m\u001b[33;1m\u001b[1;3mlist of actionable tasks\u001b[0m\u001b[32;1m\u001b[1;3mI have created actionable tasks from the search results. Now I can provide the final answer.\n",
      "Final Answer: The actionable tasks created from the search results related to the customer CustomerABC are [list of actionable tasks].\u001b[0m\n",
      "\n",
      "\u001b[1m> Finished chain.\u001b[0m\n"
     ]
    }
   ],
   "source": [
    "from main import ReAct_function\n",
    "\n",
    "query = 'Search for objects related to the customer CustomerABC and create action items from the search results.'\n",
    "ReAct_function(query)"
   ]
  }
 ],
 "metadata": {
  "kernelspec": {
   "display_name": "Python 3",
   "language": "python",
   "name": "python3"
  },
  "language_info": {
   "codemirror_mode": {
    "name": "ipython",
    "version": 3
   },
   "file_extension": ".py",
   "mimetype": "text/x-python",
   "name": "python",
   "nbconvert_exporter": "python",
   "pygments_lexer": "ipython3",
   "version": "3.10.12"
  }
 },
 "nbformat": 4,
 "nbformat_minor": 2
}
