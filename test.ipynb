{
 "cells": [
  {
   "cell_type": "code",
   "execution_count": 1,
   "metadata": {},
   "outputs": [],
   "source": [
    "from langchain.embeddings import OpenAIEmbeddings, HuggingFaceEmbeddings\n",
    "from retrievers import VectorStoreRetriever\n",
    "from config import openai_key\n",
    "from functions import devrev_functions\n",
    "\n",
    "openai_embeddings = OpenAIEmbeddings(\n",
    "    openai_api_key = openai_key\n",
    ")\n",
    "\n",
    "vs_retriever = VectorStoreRetriever(\n",
    "    embeddings=openai_embeddings,\n",
    "    name = \"vs_rtr_01\",\n",
    "    init_functions=devrev_functions.copy()\n",
    ")"
   ]
  },
  {
   "cell_type": "code",
   "execution_count": 2,
   "metadata": {},
   "outputs": [
    {
     "data": {
      "text/plain": [
       "[Document(page_content='{\"name\": \"who_am_i\", \"description\": \"Returns the ID of the current user.\", \"parameters\": {\"type\": \"object\", \"properties\": {}}}', metadata={'index': 8}),\n",
       " Document(page_content='{\"name\": \"get_sprint_id\", \"description\": \"Returns the ID of the current sprint.\", \"parameters\": {\"type\": \"object\", \"properties\": {}}}', metadata={'index': 4}),\n",
       " Document(page_content='{\"name\": \"search_object_by_name\", \"description\": \"Given a search string, returns the ID of a matching object in the system of record. If multiple matches are found, it returns the one where the confidence is highest.\", \"parameters\": {\"type\": \"object\", \"properties\": {\"query\": {\"title\": \"query\", \"type\": \"string\", \"description\": \"The search string, could be for example customer\\\\u2019s name, part name, user name.\"}}, \"required\": []}}', metadata={'index': 6}),\n",
       " Document(page_content='{\"name\": \"resolution_status\", \"description\": \"Gives an array of only unresolved issues\", \"parameters\": {\"type\": \"object\", \"properties\": {\"unresolved_issue\": {\"title\": \"unresolved_issue\", \"type\": \"array\", \"description\": \"An array of only unresolved issues.\"}}, \"required\": []}}', metadata={'index': 16})]"
      ]
     },
     "execution_count": 2,
     "metadata": {},
     "output_type": "execute_result"
    }
   ],
   "source": [
    "vs_retriever.find_functions('what is my id')"
   ]
  },
  {
   "cell_type": "code",
   "execution_count": 1,
   "metadata": {},
   "outputs": [
    {
     "name": "stderr",
     "output_type": "stream",
     "text": [
      "c:\\Users\\kayde\\OneDrive\\Desktop\\devrev-openai-classic\\.venv\\lib\\site-packages\\tqdm\\auto.py:21: TqdmWarning: IProgress not found. Please update jupyter and ipywidgets. See https://ipywidgets.readthedocs.io/en/stable/user_install.html\n",
      "  from .autonotebook import tqdm as notebook_tqdm\n"
     ]
    }
   ],
   "source": [
    "from langchain.embeddings import OpenAIEmbeddings, HuggingFaceEmbeddings\n",
    "from retrievers import CustomMultiQueryRetriever\n",
    "from langchain.chat_models import ChatOpenAI\n",
    "from config import openai_key\n",
    "from functions import devrev_functions\n",
    "\n",
    "\n",
    "hf_embeddings = HuggingFaceEmbeddings()\n",
    "\n",
    "chat_llm = ChatOpenAI(\n",
    "    openai_api_key = openai_key,\n",
    "    temperature=0.7,\n",
    ")\n",
    "\n",
    "cmq_ret = CustomMultiQueryRetriever(\n",
    "    chat_llm,\n",
    "    embeddings=hf_embeddings,\n",
    "    name = \"cmq_ret_01\",\n",
    "    init_functions=devrev_functions.copy()\n",
    ")"
   ]
  },
  {
   "cell_type": "code",
   "execution_count": 3,
   "metadata": {},
   "outputs": [
    {
     "data": {
      "text/plain": [
       "[Document(page_content='{\"name\": \"who_am_i\", \"description\": \"Returns the ID of the current user.\", \"parameters\": {\"type\": \"object\", \"properties\": {}}}', metadata={'index': 8}),\n",
       " Document(page_content='{\"name\": \"get_sprint_id\", \"description\": \"Returns the ID of the current sprint.\", \"parameters\": {\"type\": \"object\", \"properties\": {}}}', metadata={'index': 4}),\n",
       " Document(page_content='{\"name\": \"loop_condition\", \"description\": \"Executes a loop for a specified number of repetitions.\", \"parameters\": {\"type\": \"object\", \"properties\": {\"Repetitions\": {\"title\": \"Repetitions\", \"type\": \"integer\", \"description\": \"The number of repetitions for the loop.\"}, \"Go_to\": {\"title\": \"Go_to\", \"type\": \"string\", \"description\": \"The target location or action to jump to after each iteration.\"}}, \"required\": []}}', metadata={'index': 19}),\n",
       " Document(page_content='{\"name\": \"search_object_by_name\", \"description\": \"Given a search string, returns the ID of a matching object in the system of record. If multiple matches are found, it returns the one where the confidence is highest.\", \"parameters\": {\"type\": \"object\", \"properties\": {\"query\": {\"title\": \"query\", \"type\": \"string\", \"description\": \"The search string, could be for example customer\\\\u2019s name, part name, user name.\"}}, \"required\": []}}', metadata={'index': 6}),\n",
       " Document(page_content='{\"name\": \"resolution_status\", \"description\": \"Gives an array of only unresolved issues\", \"parameters\": {\"type\": \"object\", \"properties\": {\"unresolved_issue\": {\"title\": \"unresolved_issue\", \"type\": \"array\", \"description\": \"An array of only unresolved issues.\"}}, \"required\": []}}', metadata={'index': 16}),\n",
       " Document(page_content='{\"name\": \"works_list\", \"description\": \"Returns a list of work items matching the request.\", \"parameters\": {\"type\": \"object\", \"properties\": {\"applies_to_part\": {\"title\": \"applies_to_part\", \"type\": \"array of strings\", \"description\": \"Filters for work belonging to any of the provided parts.\"}, \"created_by\": {\"title\": \"created_by\", \"type\": \"array of strings\", \"description\": \"Filters for work created by any of these users.\"}, \"issue.priority\": {\"title\": \"issue.priority\", \"type\": [\"P0\", \"P1\", \"P2\", \"P3\"], \"description\": \"Filters for issues with any of the provided priorities. Allowed values: p0, p1, p2, p3.\"}, \"issue.rev_orgs\": {\"title\": \"issue.rev_orgs\", \"type\": \"array of strings\", \"description\": \"Filters for issues with any of the provided Rev organizations.\"}, \"limit\": {\"title\": \"limit\", \"type\": \"integer (int32)\", \"description\": \"The maximum number of works to return. The default is \\'50\\'.\"}, \"owned_by\": {\"title\": \"owned_by\", \"type\": \"array of strings\", \"description\": \"Filters for work owned by any of these users.\"}, \"stage.name\": {\"title\": \"stage.name\", \"type\": \"array of strings\", \"description\": \"Filters for records in the provided stage(s) by name.\"}, \"ticket.needs_response\": {\"title\": \"ticket.needs_response\", \"type\": \"boolean\", \"description\": \"Filters for tickets that need a response.\"}, \"ticket.rev_org\": {\"title\": \"ticket.rev_org\", \"type\": \"array of strings\", \"description\": \"Filters for tickets associated with any of the provided Rev organizations.\"}, \"ticket.severity\": {\"title\": \"ticket.severity\", \"type\": \"array of strings\", \"description\": \"Filters for tickets with any of the provided severities. Allowed values: blocker, high, low, medium.\"}, \"ticket.source_channel\": {\"title\": \"ticket.source_channel\", \"type\": \"array of strings\", \"description\": \"Filters for tickets with any of the provided source channels.\"}, \"type\": {\"title\": \"type\", \"type\": \"array of strings\", \"description\": \"Filters for work of the provided types. Allowed values: issue, ticket, task.\"}}, \"required\": []}}', metadata={'index': 0}),\n",
       " Document(page_content='{\"name\": \"logical_and\", \"description\": \"Performs a logical AND operation on two conditions.\", \"parameters\": {\"type\": \"object\", \"properties\": {\"condition1\": {\"title\": \"condition1\", \"type\": \"boolean\", \"description\": \"The first condition for the logical AND operation.\"}, \"condition2\": {\"title\": \"condition2\", \"type\": \"boolean\", \"description\": \"The second condition for the logical AND operation.\"}}, \"required\": []}}', metadata={'index': 10}),\n",
       " Document(page_content='{\"name\": \"logical_not\", \"description\": \"Performs a logical NOT operation on a condition.\", \"parameters\": {\"type\": \"object\", \"properties\": {\"condition\": {\"title\": \"condition\", \"type\": \"boolean\", \"description\": \"The condition to negate using logical NOT.\"}}, \"required\": []}}', metadata={'index': 12})]"
      ]
     },
     "execution_count": 3,
     "metadata": {},
     "output_type": "execute_result"
    }
   ],
   "source": [
    "cmq_ret.find_functions('find all my P0 issues')"
   ]
  },
  {
   "cell_type": "code",
   "execution_count": 6,
   "metadata": {},
   "outputs": [],
   "source": [
    "from langchain.chat_models import ChatOpenAI\n",
    "\n",
    "from verification import Verifier\n",
    "\n",
    "chat_llm = ChatOpenAI(\n",
    "    openai_api_key = openai_key\n",
    ")\n",
    "\n",
    "verifier = Verifier(\n",
    "    chat_llm = chat_llm\n",
    ")"
   ]
  },
  {
   "cell_type": "code",
   "execution_count": 24,
   "metadata": {},
   "outputs": [
    {
     "data": {
      "text/plain": [
       "'False'"
      ]
     },
     "execution_count": 24,
     "metadata": {},
     "output_type": "execute_result"
    }
   ],
   "source": [
    "query = \"Summarize work items similar to don:core:dvrv-us-1:devo/0:issue/1\"\n",
    "schema = '''\n",
    "[\n",
    "    {\n",
    "        \"tool_name\": \"get_similar_work_items\",\n",
    "        \"arguments\": [\n",
    "            {\n",
    "                \"argument_name\": \"work_id\",\n",
    "                \"argument_value\": \"don:core:dvrv-us-1:devo/0:issue/1\"\n",
    "            }\n",
    "        ]\n",
    "    },\n",
    "    {\n",
    "        \"tool_name\": \"summarize_objects\",\n",
    "        \"arguments\": [\n",
    "            {\n",
    "                \"argument_name\": \"objects\",\n",
    "                \"argument_value\": \"$$PREV[0]\"\n",
    "            }\n",
    "        ]\n",
    "    }\n",
    "]'''\n",
    "verifier(answer=schema,query=query,init_functions=devrev_functions)['text']\n",
    "\n"
   ]
  },
  {
   "cell_type": "code",
   "execution_count": null,
   "metadata": {},
   "outputs": [],
   "source": [
    "from composers import ChainOfThoughtComposer\n",
    "from examples import example_queries\n",
    "composer = ChainOfThoughtComposer(\n",
    "    chat_llm=chat_llm,\n",
    ")"
   ]
  }
 ],
 "metadata": {
  "kernelspec": {
   "display_name": ".venv",
   "language": "python",
   "name": "python3"
  },
  "language_info": {
   "codemirror_mode": {
    "name": "ipython",
    "version": 3
   },
   "file_extension": ".py",
   "mimetype": "text/x-python",
   "name": "python",
   "nbconvert_exporter": "python",
   "pygments_lexer": "ipython3",
   "version": "3.10.11"
  }
 },
 "nbformat": 4,
 "nbformat_minor": 2
}
