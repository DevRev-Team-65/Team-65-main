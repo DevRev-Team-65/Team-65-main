{
 "cells": [
  {
   "cell_type": "code",
   "execution_count": 1,
   "metadata": {},
   "outputs": [],
   "source": [
    "from openai_retrievers import CustomMultiQueryRetriever, CustomContextualCompressionRetriever, VectorStoreRetriever\n",
    "from prompting import ChainOfThoughtComposer\n",
    "from config import openai_key\n",
    "from functions import devrev_functions\n",
    "import logging\n",
    "import json"
   ]
  },
  {
   "cell_type": "markdown",
   "metadata": {},
   "source": [
    "### Let's setup logging, to catch any errors that might creep up"
   ]
  },
  {
   "cell_type": "code",
   "execution_count": 2,
   "metadata": {},
   "outputs": [],
   "source": [
    "logging.basicConfig()\n",
    "logging.getLogger().setLevel(logging.INFO)"
   ]
  },
  {
   "cell_type": "markdown",
   "metadata": {},
   "source": [
    "## Setup Retriever"
   ]
  },
  {
   "cell_type": "code",
   "execution_count": 3,
   "metadata": {},
   "outputs": [
    {
     "name": "stderr",
     "output_type": "stream",
     "text": [
      "INFO:faiss.loader:Loading faiss with AVX2 support.\n",
      "INFO:faiss.loader:Could not load library with AVX2 support due to:\n",
      "ModuleNotFoundError(\"No module named 'faiss.swigfaiss_avx2'\")\n",
      "INFO:faiss.loader:Loading faiss.\n",
      "INFO:faiss.loader:Successfully loaded faiss.\n"
     ]
    }
   ],
   "source": [
    "retriever = VectorStoreRetriever(\n",
    "    openai_key=openai_key,\n",
    "    name=\"cmqr_vs_0\",\n",
    "    init_functions=devrev_functions\n",
    ")"
   ]
  },
  {
   "cell_type": "markdown",
   "metadata": {},
   "source": [
    "## Setup Composer"
   ]
  },
  {
   "cell_type": "code",
   "execution_count": 4,
   "metadata": {},
   "outputs": [],
   "source": [
    "composer = ChainOfThoughtComposer(\n",
    "    openai_api_key=openai_key,\n",
    "    temperature=0.0,\n",
    "    max_tokens=1000,\n",
    ")"
   ]
  },
  {
   "cell_type": "markdown",
   "metadata": {},
   "source": [
    "## Run a Query"
   ]
  },
  {
   "cell_type": "code",
   "execution_count": 5,
   "metadata": {},
   "outputs": [
    {
     "name": "stderr",
     "output_type": "stream",
     "text": [
      "INFO:httpx:HTTP Request: POST https://api.openai.com/v1/embeddings \"HTTP/1.1 200 OK\"\n"
     ]
    }
   ],
   "source": [
    "query = \"List all high severity tickets coming in from slack from customer Cust123 and generate a summary of them.\"\n",
    "functions = retriever.find_functions(query)"
   ]
  },
  {
   "cell_type": "code",
   "execution_count": 6,
   "metadata": {},
   "outputs": [
    {
     "name": "stderr",
     "output_type": "stream",
     "text": [
      "INFO:httpx:HTTP Request: POST https://api.openai.com/v1/chat/completions \"HTTP/1.1 200 OK\"\n"
     ]
    },
    {
     "data": {
      "text/plain": [
       "[{'tool_name': 'search_object_by_name',\n",
       "  'arguments': [{'argument_name': 'query', 'argument_value': 'Cust123'}]},\n",
       " {'tool_name': 'works_list',\n",
       "  'arguments': [{'argument_name': 'ticket.rev_org',\n",
       "    'argument_value': '$$PREV[0]'},\n",
       "   {'argument_name': 'ticket.source_channel', 'argument_value': ['slack']},\n",
       "   {'argument_name': 'ticket.severity', 'argument_value': ['high']}]},\n",
       " {'tool_name': 'summarize_objects',\n",
       "  'arguments': [{'argument_name': 'objects', 'argument_value': '$$PREV[1]'}]}]"
      ]
     },
     "execution_count": 6,
     "metadata": {},
     "output_type": "execute_result"
    }
   ],
   "source": [
    "#format the answer json\n",
    "answer = composer(query=query, functions=functions)\n",
    "answer_json = json.loads(answer['text'])\n",
    "answer_json"
   ]
  }
 ],
 "metadata": {
  "kernelspec": {
   "display_name": ".venv",
   "language": "python",
   "name": "python3"
  },
  "language_info": {
   "codemirror_mode": {
    "name": "ipython",
    "version": 3
   },
   "file_extension": ".py",
   "mimetype": "text/x-python",
   "name": "python",
   "nbconvert_exporter": "python",
   "pygments_lexer": "ipython3",
   "version": "3.10.11"
  }
 },
 "nbformat": 4,
 "nbformat_minor": 2
}
