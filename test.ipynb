{
 "cells": [
  {
   "cell_type": "code",
   "execution_count": 1,
   "metadata": {},
   "outputs": [
    {
     "ename": "ImportError",
     "evalue": "cannot import name 'HuggingFaceTextGenInterface' from 'langchain.llms' (c:\\Users\\kayde\\OneDrive\\Desktop\\devrev-openai-classic\\.venv\\lib\\site-packages\\langchain\\llms\\__init__.py)",
     "output_type": "error",
     "traceback": [
      "\u001b[1;31m---------------------------------------------------------------------------\u001b[0m",
      "\u001b[1;31mImportError\u001b[0m                               Traceback (most recent call last)",
      "Cell \u001b[1;32mIn[1], line 6\u001b[0m\n\u001b[0;32m      3\u001b[0m \u001b[38;5;28;01mfrom\u001b[39;00m \u001b[38;5;21;01mconfig\u001b[39;00m \u001b[38;5;28;01mimport\u001b[39;00m openai_key\n\u001b[0;32m      5\u001b[0m \u001b[38;5;28;01mfrom\u001b[39;00m \u001b[38;5;21;01mlangchain\u001b[39;00m\u001b[38;5;21;01m.\u001b[39;00m\u001b[38;5;21;01membeddings\u001b[39;00m \u001b[38;5;28;01mimport\u001b[39;00m OpenAIEmbeddings, HuggingFaceEmbeddings\n\u001b[1;32m----> 6\u001b[0m \u001b[38;5;28;01mfrom\u001b[39;00m \u001b[38;5;21;01mlangchain\u001b[39;00m\u001b[38;5;21;01m.\u001b[39;00m\u001b[38;5;21;01mllms\u001b[39;00m \u001b[38;5;28;01mimport\u001b[39;00m OpenAI, HuggingFaceTextGenInterface\n\u001b[0;32m      7\u001b[0m \u001b[38;5;28;01mfrom\u001b[39;00m \u001b[38;5;21;01mlangchain\u001b[39;00m\u001b[38;5;21;01m.\u001b[39;00m\u001b[38;5;21;01mchat_models\u001b[39;00m \u001b[38;5;28;01mimport\u001b[39;00m ChatOpenAI\n",
      "\u001b[1;31mImportError\u001b[0m: cannot import name 'HuggingFaceTextGenInterface' from 'langchain.llms' (c:\\Users\\kayde\\OneDrive\\Desktop\\devrev-openai-classic\\.venv\\lib\\site-packages\\langchain\\llms\\__init__.py)"
     ]
    }
   ],
   "source": [
    "from retrievers import VectorStoreRetriever, CustomContextualCompressionRetriever, CustomMultiQueryRetriever\n",
    "from composers import ChainOfThoughtComposer\n",
    "from config import openai_key\n",
    "from functions import devrev_functions\n",
    "from examples import example_queries\n",
    "\n",
    "from langchain.embeddings import OpenAIEmbeddings, HuggingFaceEmbeddings\n",
    "from langchain.llms import OpenAI, HuggingFaceTextGenInterface\n",
    "from langchain.chat_models import ChatOpenAI"
   ]
  },
  {
   "cell_type": "code",
   "execution_count": null,
   "metadata": {},
   "outputs": [],
   "source": [
    "openai_embeddings = OpenAIEmbeddings(\n",
    "    openai_api_key = openai_key\n",
    ")\n",
    "\n",
    "openai_chat = ChatOpenAI(\n",
    "    openai_api_key = openai_key,\n",
    "    temperature=0.0,\n",
    "    max_tokens=1000\n",
    ")\n",
    "\n",
    "retriever = VectorStoreRetriever(\n",
    "    embeddings=openai_embeddings,\n",
    "    name = \"vs_rtr_01\",\n",
    "    init_functions=devrev_functions.copy()\n",
    ")\n",
    "\n",
    "\n",
    "examples = \"\".join(\n",
    "    [f\"Query: {query}\\nOutput: {output}\\n\" for query, output in example_queries[:3]]\n",
    ")\n",
    "\n",
    "composer = ChainOfThoughtComposer(\n",
    "    retriever=retriever,\n",
    "    name = \"cotc_01\",\n",
    "    init_functions=devrev_functions.copy()\n",
    ")\n"
   ]
  }
 ],
 "metadata": {
  "kernelspec": {
   "display_name": ".venv",
   "language": "python",
   "name": "python3"
  },
  "language_info": {
   "codemirror_mode": {
    "name": "ipython",
    "version": 3
   },
   "file_extension": ".py",
   "mimetype": "text/x-python",
   "name": "python",
   "nbconvert_exporter": "python",
   "pygments_lexer": "ipython3",
   "version": "3.10.11"
  }
 },
 "nbformat": 4,
 "nbformat_minor": 2
}
