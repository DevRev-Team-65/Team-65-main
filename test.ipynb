{
 "cells": [
  {
   "cell_type": "code",
   "execution_count": 1,
   "metadata": {},
   "outputs": [],
   "source": [
    "from retrievers import CustomMultiQueryRetriever, CustomContextualCompressionRetriever, VectorStoreRetriever\n",
    "from composers import ChainOfThoughtComposer\n",
    "from config import openai_key\n",
    "from functions import devrev_functions\n",
    "import logging\n",
    "import json"
   ]
  },
  {
   "cell_type": "markdown",
   "metadata": {},
   "source": [
    "### Let's setup logging, to catch any errors that might creep up"
   ]
  },
  {
   "cell_type": "code",
   "execution_count": 2,
   "metadata": {},
   "outputs": [],
   "source": [
    "logging.basicConfig()\n",
    "logging.getLogger().setLevel(logging.INFO)"
   ]
  },
  {
   "cell_type": "markdown",
   "metadata": {},
   "source": [
    "## Setup Retriever"
   ]
  },
  {
   "cell_type": "code",
   "execution_count": 8,
   "metadata": {},
   "outputs": [],
   "source": [
    "retriever = CustomMultiQueryRetriever(\n",
    "    openai_key=openai_key,\n",
    "    name=\"cmqr_vs_0\",\n",
    "    init_functions=devrev_functions\n",
    ")"
   ]
  },
  {
   "cell_type": "markdown",
   "metadata": {},
   "source": [
    "## Setup Composer"
   ]
  },
  {
   "cell_type": "code",
   "execution_count": 9,
   "metadata": {},
   "outputs": [],
   "source": [
    "composer = ChainOfThoughtComposer(\n",
    "    openai_api_key=openai_key,\n",
    "    temperature=0.0,\n",
    "    max_tokens=1000,\n",
    ")"
   ]
  },
  {
   "cell_type": "markdown",
   "metadata": {},
   "source": [
    "## Run a Query"
   ]
  },
  {
   "cell_type": "code",
   "execution_count": 10,
   "metadata": {},
   "outputs": [
    {
     "name": "stderr",
     "output_type": "stream",
     "text": [
      "INFO:langchain.retrievers.multi_query:Generated queries: ['1. Count the number of high-priority tasks', '2. Check if the count from #1 is greater than 10', '3. If the count from #1 is greater than 10, prioritize the high-priority tasks', \"4. If the count from #1 is not greater than 10, get the current user's ID\"]\n"
     ]
    }
   ],
   "source": [
    "query = \"If there are more than 10 high-priority tasks, prioritize them; else, get the current user's ID\"\n",
    "functions = retriever.find_functions(query)"
   ]
  },
  {
   "cell_type": "code",
   "execution_count": 11,
   "metadata": {},
   "outputs": [
    {
     "data": {
      "text/plain": [
       "[Document(page_content='{\"name\": \"prioritize_objects\", \"description\": \"Returns a list of objects sorted by priority. The logic of what constitutes priority for a given object is an internal implementation detail.\", \"parameters\": {\"type\": \"object\", \"properties\": {\"objects\": {\"title\": \"objects\", \"type\": \"array of objects\", \"description\": \"A list of objects to be prioritized.\"}}, \"required\": []}}', metadata={'index': 2}),\n",
       " Document(page_content='{\"name\": \"create_actionable_tasks_from_text\", \"description\": \"Given a text, extracts actionable insights, and creates tasks for them, which are kind of a work item.\", \"parameters\": {\"type\": \"object\", \"properties\": {\"text\": {\"title\": \"text\", \"type\": \"string\", \"description\": \"The text from which the actionable insights need to be created.\"}}, \"required\": []}}', metadata={'index': 7}),\n",
       " Document(page_content='{\"name\": \"resolution_status\", \"description\": \"Gives an array of only unresolved issues\", \"parameters\": {\"type\": \"object\", \"properties\": {\"unresolved_issue\": {\"title\": \"unresolved_issue\", \"type\": \"array\", \"description\": \"An array of only unresolved issues.\"}}, \"required\": []}}', metadata={'index': 16}),\n",
       " Document(page_content='{\"name\": \"logical_or\", \"description\": \"Performs a logical OR operation on two conditions.\", \"parameters\": {\"type\": \"object\", \"properties\": {\"condition1\": {\"title\": \"condition1\", \"type\": \"boolean\", \"description\": \"The first condition for the logical OR operation.\"}, \"condition2\": {\"title\": \"condition2\", \"type\": \"boolean\", \"description\": \"The second condition for the logical OR operation.\"}}, \"required\": []}}', metadata={'index': 11}),\n",
       " Document(page_content='{\"name\": \"Greater_than\", \"description\": \"Checks if the left value is greater than the right value.\", \"parameters\": {\"type\": \"object\", \"properties\": {\"left_value\": {\"title\": \"left_value\", \"type\": \"number\", \"description\": \"The left-hand side value for comparison.\"}, \"right_value\": {\"title\": \"right_value\", \"type\": \"number\", \"description\": \"The right-hand side value for comparison.\"}}, \"required\": []}}', metadata={'index': 14}),\n",
       " Document(page_content='{\"name\": \"Lesser_than\", \"description\": \"Checks if the left value is lesser than the right value.\", \"parameters\": {\"type\": \"object\", \"properties\": {\"left_value\": {\"title\": \"left_value\", \"type\": \"number\", \"description\": \"The left-hand side value for comparison.\"}, \"right_value\": {\"title\": \"right_value\", \"type\": \"number\", \"description\": \"The right-hand side value for comparison.\"}}, \"required\": []}}', metadata={'index': 13}),\n",
       " Document(page_content='{\"name\": \"logical_and\", \"description\": \"Performs a logical AND operation on two conditions.\", \"parameters\": {\"type\": \"object\", \"properties\": {\"condition1\": {\"title\": \"condition1\", \"type\": \"boolean\", \"description\": \"The first condition for the logical AND operation.\"}, \"condition2\": {\"title\": \"condition2\", \"type\": \"boolean\", \"description\": \"The second condition for the logical AND operation.\"}}, \"required\": []}}', metadata={'index': 10}),\n",
       " Document(page_content='{\"name\": \"who_am_i\", \"description\": \"Returns the ID of the current user.\", \"parameters\": {\"type\": \"object\", \"properties\": {}}}', metadata={'index': 8}),\n",
       " Document(page_content='{\"name\": \"get_sprint_id\", \"description\": \"Returns the ID of the current sprint.\", \"parameters\": {\"type\": \"object\", \"properties\": {}}}', metadata={'index': 4}),\n",
       " Document(page_content='{\"name\": \"search_object_by_name\", \"description\": \"Given a search string, returns the ID of a matching object in the system of record. If multiple matches are found, it returns the one where the confidence is highest.\", \"parameters\": {\"type\": \"object\", \"properties\": {\"query\": {\"title\": \"query\", \"type\": \"string\", \"description\": \"The search string, could be for example customer\\\\u2019s name, part name, user name.\"}}, \"required\": []}}', metadata={'index': 6}),\n",
       " Document(page_content='{\"name\": \"if_else_condition\", \"description\": \"Executes a conditional statement with if-else logic.\", \"parameters\": {\"type\": \"object\", \"properties\": {\"Function\": {\"title\": \"Function\", \"type\": \"string\", \"description\": \"The conditional function or expression.\"}, \"If_true\": {\"title\": \"If_true\", \"type\": \"string\", \"description\": \"Action to be taken if the condition is true.\"}, \"If_false\": {\"title\": \"If_false\", \"type\": \"string\", \"description\": \"Action to be taken if the condition is false.\"}}, \"required\": []}}', metadata={'index': 18})]"
      ]
     },
     "execution_count": 11,
     "metadata": {},
     "output_type": "execute_result"
    }
   ],
   "source": [
    "functions"
   ]
  },
  {
   "cell_type": "code",
   "execution_count": 12,
   "metadata": {},
   "outputs": [
    {
     "name": "stdout",
     "output_type": "stream",
     "text": [
      "[\n",
      "    {\n",
      "        \"tool_name\": \"works_list\",\n",
      "        \"arguments\": [\n",
      "            {\n",
      "                \"argument_name\": \"issue.priority\",\n",
      "                \"argument_value\": \"high\"\n",
      "            }\n",
      "        ]\n",
      "    },\n",
      "    {\n",
      "        \"tool_name\": \"count_objects\",\n",
      "        \"arguments\": [\n",
      "            {\n",
      "                \"argument_name\": \"objects\",\n",
      "                \"argument_value\": \"$$PREV[0]\"\n",
      "            }\n",
      "        ]\n",
      "    },\n",
      "    {\n",
      "        \"tool_name\": \"if_else_condition\",\n",
      "        \"arguments\": [\n",
      "            {\n",
      "                \"argument_name\": \"Function\",\n",
      "                \"argument_value\": \"$$PREV[1] > 10\"\n",
      "            },\n",
      "            {\n",
      "                \"argument_name\": \"If_true\",\n",
      "                \"argument_value\": \"prioritize_objects\"\n",
      "            },\n",
      "            {\n",
      "                \"argument_name\": \"If_false\",\n",
      "                \"argument_value\": \"who_am_i\"\n",
      "            }\n",
      "        ]\n",
      "    }\n",
      "]\n"
     ]
    }
   ],
   "source": [
    "#format the answer json\n",
    "answer = composer(query=query, functions=functions)\n",
    "answer_json = json.loads(answer['text'])\n",
    "print(answer['text'])"
   ]
  }
 ],
 "metadata": {
  "kernelspec": {
   "display_name": ".venv",
   "language": "python",
   "name": "python3"
  },
  "language_info": {
   "codemirror_mode": {
    "name": "ipython",
    "version": 3
   },
   "file_extension": ".py",
   "mimetype": "text/x-python",
   "name": "python",
   "nbconvert_exporter": "python",
   "pygments_lexer": "ipython3",
   "version": "3.10.12"
  }
 },
 "nbformat": 4,
 "nbformat_minor": 2
}
