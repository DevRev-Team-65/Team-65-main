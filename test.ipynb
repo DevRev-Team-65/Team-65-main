{
 "cells": [
  {
   "cell_type": "code",
   "execution_count": 5,
   "metadata": {},
   "outputs": [],
   "source": [
    "from langchain.embeddings import OpenAIEmbeddings, HuggingFaceEmbeddings\n",
    "from retrievers import VectorStoreRetriever\n",
    "from config import openai_key\n",
    "from functions import devrev_functions\n",
    "\n",
    "openai_embeddings = OpenAIEmbeddings(\n",
    "    openai_api_key = openai_key\n",
    ")\n",
    "\n",
    "vs_retriever = VectorStoreRetriever(\n",
    "    embeddings=openai_embeddings,\n",
    "    name = \"vs_rtr_01\",\n",
    "    init_functions=devrev_functions.copy()\n",
    ")"
   ]
  },
  {
   "cell_type": "code",
   "execution_count": 6,
   "metadata": {},
   "outputs": [
    {
     "data": {
      "text/plain": [
       "[Document(page_content='{\"name\": \"who_am_i\", \"description\": \"Returns the ID of the current user.\", \"parameters\": {\"type\": \"object\", \"properties\": {}}}', metadata={'index': 8}),\n",
       " Document(page_content='{\"name\": \"get_sprint_id\", \"description\": \"Returns the ID of the current sprint.\", \"parameters\": {\"type\": \"object\", \"properties\": {}}}', metadata={'index': 4}),\n",
       " Document(page_content='{\"name\": \"search_object_by_name\", \"description\": \"Given a search string, returns the ID of a matching object in the system of record. If multiple matches are found, it returns the one where the confidence is highest.\", \"parameters\": {\"type\": \"object\", \"properties\": {\"query\": {\"title\": \"query\", \"type\": \"string\", \"description\": \"The search string, could be for example customer\\\\u2019s name, part name, user name.\"}}, \"required\": []}}', metadata={'index': 6}),\n",
       " Document(page_content='{\"name\": \"resolution_status\", \"description\": \"Gives an array of only unresolved issues\", \"parameters\": {\"type\": \"object\", \"properties\": {\"unresolved_issue\": {\"title\": \"unresolved_issue\", \"type\": \"array\", \"description\": \"An array of only unresolved issues.\"}}, \"required\": []}}', metadata={'index': 16})]"
      ]
     },
     "execution_count": 6,
     "metadata": {},
     "output_type": "execute_result"
    }
   ],
   "source": [
    "vs_retriever.find_functions('what is my id')"
   ]
  },
  {
   "cell_type": "code",
   "execution_count": null,
   "metadata": {},
   "outputs": [],
   "source": [
    "from langchain.embeddings import OpenAIEmbeddings, HuggingFaceEmbeddings\n",
    "from retrievers import VectorStoreRetriever\n",
    "from config import openai_key\n",
    "from functions import devrev_functions\n",
    "\n",
    "hf_embeddings = HuggingFaceEmbeddings()"
   ]
  }
 ],
 "metadata": {
  "kernelspec": {
   "display_name": ".venv",
   "language": "python",
   "name": "python3"
  },
  "language_info": {
   "codemirror_mode": {
    "name": "ipython",
    "version": 3
   },
   "file_extension": ".py",
   "mimetype": "text/x-python",
   "name": "python",
   "nbconvert_exporter": "python",
   "pygments_lexer": "ipython3",
   "version": "3.10.11"
  }
 },
 "nbformat": 4,
 "nbformat_minor": 2
}
