{
  "nbformat": 4,
  "nbformat_minor": 0,
  "metadata": {
    "colab": {
      "provenance": []
    },
    "kernelspec": {
      "name": "python3",
      "display_name": "Python 3"
    },
    "language_info": {
      "name": "python"
    }
  },
  "cells": [
    {
      "cell_type": "code",
      "source": [
        "!pip install -r requirements.txt"
      ],
      "metadata": {
        "colab": {
          "base_uri": "https://localhost:8080/"
        },
        "id": "myG1ASGBjZWl",
        "outputId": "3e75e18e-28c2-4918-c1a4-6e17922f2a3b"
      },
      "execution_count": 32,
      "outputs": [
        {
          "output_type": "stream",
          "name": "stdout",
          "text": [
            "Requirement already satisfied: openai in /usr/local/lib/python3.10/dist-packages (from -r requirements.txt (line 1)) (1.3.8)\n",
            "Requirement already satisfied: anyio<5,>=3.5.0 in /usr/local/lib/python3.10/dist-packages (from openai->-r requirements.txt (line 1)) (3.7.1)\n",
            "Requirement already satisfied: distro<2,>=1.7.0 in /usr/lib/python3/dist-packages (from openai->-r requirements.txt (line 1)) (1.7.0)\n",
            "Requirement already satisfied: httpx<1,>=0.23.0 in /usr/local/lib/python3.10/dist-packages (from openai->-r requirements.txt (line 1)) (0.25.2)\n",
            "Requirement already satisfied: pydantic<3,>=1.9.0 in /usr/local/lib/python3.10/dist-packages (from openai->-r requirements.txt (line 1)) (1.10.13)\n",
            "Requirement already satisfied: sniffio in /usr/local/lib/python3.10/dist-packages (from openai->-r requirements.txt (line 1)) (1.3.0)\n",
            "Requirement already satisfied: tqdm>4 in /usr/local/lib/python3.10/dist-packages (from openai->-r requirements.txt (line 1)) (4.66.1)\n",
            "Requirement already satisfied: typing-extensions<5,>=4.5 in /usr/local/lib/python3.10/dist-packages (from openai->-r requirements.txt (line 1)) (4.5.0)\n",
            "Requirement already satisfied: idna>=2.8 in /usr/local/lib/python3.10/dist-packages (from anyio<5,>=3.5.0->openai->-r requirements.txt (line 1)) (3.6)\n",
            "Requirement already satisfied: exceptiongroup in /usr/local/lib/python3.10/dist-packages (from anyio<5,>=3.5.0->openai->-r requirements.txt (line 1)) (1.2.0)\n",
            "Requirement already satisfied: certifi in /usr/local/lib/python3.10/dist-packages (from httpx<1,>=0.23.0->openai->-r requirements.txt (line 1)) (2023.11.17)\n",
            "Requirement already satisfied: httpcore==1.* in /usr/local/lib/python3.10/dist-packages (from httpx<1,>=0.23.0->openai->-r requirements.txt (line 1)) (1.0.2)\n",
            "Requirement already satisfied: h11<0.15,>=0.13 in /usr/local/lib/python3.10/dist-packages (from httpcore==1.*->httpx<1,>=0.23.0->openai->-r requirements.txt (line 1)) (0.14.0)\n"
          ]
        }
      ]
    },
    {
      "cell_type": "code",
      "source": [
        "!python Recursion_of_Thought.py \\\n",
        "--query \"Retrieve work items associated with the Rev organization Rev-789 and tickets that need a response, and create a summary.\""
      ],
      "metadata": {
        "colab": {
          "base_uri": "https://localhost:8080/"
        },
        "id": "z7DL0uWojhmx",
        "outputId": "e7fd4435-0fc3-42b9-b05b-186d3827f9db"
      },
      "execution_count": 35,
      "outputs": [
        {
          "output_type": "stream",
          "name": "stdout",
          "text": [
            "1.Divide the problem into subproblems:\n",
            "\n",
            "Subproblem 1: Retrieve work items associated with the Rev organisation 'Rev-789'.\n",
            "Subproblem 2: Filter work items from Subproblem 1 which are tickets that need a response.\n",
            "Subproblem 3: Summarize the work items obtained from Subproblem 2.\n",
            "\n",
            "2.Generate GO and STOP tokens:\n",
            "GO\n",
            "... Subproblem 1 ...\n",
            "... Subproblem 2 ...\n",
            "... Subproblem 3 ...\n",
            "STOP\n",
            "\n",
            "3.Solve each subproblem recursively:\n",
            "\n",
            "For Subproblem 1, use the \"works_list\" tool with the argument \"ticket.rev_org\" set to \"Rev-789\".\n",
            "For Subproblem 2, use the \"works_list\" tool with the argument \"ticket.needs_response\" set to true and \"objects\" set to the output of Subproblem 1.\n",
            "Subproblem 3 does not require further division and can be solved directly using the \"summarize_objects\" tool with the argument \"objects\" set to the output of Subproblem 2.\n",
            "\n",
            "4.Use appropriate tools and combine the outputs of Subproblems 1, 2, and 3.Replace the corresponding THINK tokens with the actual results obtained from each subproblem.\n",
            "The final answer is the prioritized list of work items associated with 'Rev-789,' which are tickets that need a response, and summarized.\n",
            "\n",
            "\"[\n",
            "    {\n",
            "        \"\"tool_name\"\": \"\"works_list\"\",\n",
            "        \"\"arguments\"\": [\n",
            "            {\n",
            "                \"\"argument_name\"\": \"\"ticket.rev_org\"\",\n",
            "                \"\"argument_value\"\": \"\"Rev-789\"\"\n",
            "            }\n",
            "        ]\n",
            "    },\n",
            "    {\n",
            "        \"\"tool_name\"\": \"\"works_list\"\",\n",
            "        \"\"arguments\"\": [\n",
            "            {\n",
            "                \"\"argument_name\"\": \"\"ticket.needs_response\"\",\n",
            "                \"\"argument_value\"\": true\n",
            "            },\n",
            "            {\n",
            "                \"\"argument_name\"\": \"\"objects\"\",\n",
            "                \"\"argument_value\"\": \"\"$$PREV[0]\"\"\n",
            "            }\n",
            "        ]\n",
            "    },\n",
            "    {\n",
            "        \"\"tool_name\"\": \"\"summarize_objects\"\",\n",
            "        \"\"arguments\"\": [\n",
            "            {\n",
            "                \"\"argument_name\"\": \"\"objects\"\",\n",
            "                \"\"argument_value\"\": \"\"$$PREV[1]\"\"\n",
            "            }\n",
            "        ]\n",
            "    }\n",
            "]\n",
            "\"\n"
          ]
        }
      ]
    },
    {
      "cell_type": "code",
      "source": [],
      "metadata": {
        "id": "rrJ1B4sYj4RJ"
      },
      "execution_count": null,
      "outputs": []
    }
  ]
}